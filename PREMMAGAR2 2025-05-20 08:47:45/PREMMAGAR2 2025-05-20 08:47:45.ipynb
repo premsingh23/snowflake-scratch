{
 "metadata": {
  "kernelspec": {
   "display_name": "Streamlit Notebook",
   "name": "streamlit"
  },
  "lastEditStatus": {
   "notebookId": "n3tfks3gppeaf57h423h",
   "authorId": "6686443164997",
   "authorName": "PREMMAGAR2",
   "authorEmail": "prem.magar@principia.edu",
   "sessionId": "3c917615-c075-41a7-89ba-40d80b69f299",
   "lastEditTime": 1747825376941
  }
 },
 "nbformat_minor": 5,
 "nbformat": 4,
 "cells": [
  {
   "cell_type": "code",
   "id": "3775908f-ca36-4846-8f38-5adca39217f2",
   "metadata": {
    "language": "python",
    "name": "cell1"
   },
   "source": "# Import python packages\nimport streamlit as st\nimport pandas as pd\n\n# We can also use Snowpark for our analyses!\nfrom snowflake.snowpark.context import get_active_session\nsession = get_active_session()\n",
   "execution_count": null,
   "outputs": []
  },
  {
   "cell_type": "code",
   "id": "8d50cbf4-0c8d-4950-86cb-114990437ac9",
   "metadata": {
    "language": "sql",
    "name": "cell2"
   },
   "source": "-- Welcome to Snowflake Notebooks!\n-- Try out a SQL cell to generate some data.\nSELECT 'FRIDAY' as SNOWDAY, 0.2 as CHANCE_OF_SNOW\nUNION ALL\nSELECT 'SATURDAY',0.5\nUNION ALL \nSELECT 'SUNDAY', 0.9;",
   "execution_count": null,
   "outputs": []
  },
  {
   "cell_type": "code",
   "id": "c695373e-ac74-4b62-a1f1-08206cbd5c81",
   "metadata": {
    "language": "python",
    "name": "cell3"
   },
   "source": "# Then, we can use the python name to turn cell2 into a Pandas dataframe\nmy_df = cell2.to_pandas()\n\n# Chart the data\nst.subheader(\"Chance of SNOW ❄️\")\nst.line_chart(my_df, x='SNOWDAY', y='CHANCE_OF_SNOW')\n\n# Give it a go!\nst.subheader(\"Try it out yourself and show off your skills 🥇\")",
   "execution_count": null,
   "outputs": []
  },
  {
   "cell_type": "code",
   "id": "1481636c-5fcb-411d-a30b-b24ceddbe394",
   "metadata": {
    "language": "sql",
    "name": "cell4"
   },
   "outputs": [],
   "source": "USE DATABASE SOEMTHING;\nCREATE SCHEMA IF NOT EXISTS raw_data;\nCREATE SCHEMA IF NOT EXISTS analytics;\n\nCREATE OR REPLACE FILE FORMAT csv_fmt\n  TYPE = 'CSV'\n  FIELD_DELIMITER = ','\n  SKIP_HEADER = 1;\n",
   "execution_count": null
  },
  {
   "cell_type": "code",
   "id": "0acf0bc8-8e8f-4277-858e-da60c4dc81ad",
   "metadata": {
    "language": "sql",
    "name": "cell5"
   },
   "outputs": [],
   "source": "USE SCHEMA raw_data;\n\nCREATE OR REPLACE STAGE grades_stage\n  FILE_FORMAT = csv_fmt;\n",
   "execution_count": null
  },
  {
   "cell_type": "code",
   "id": "90497c3e-58ce-4370-8aeb-ef93d5765d70",
   "metadata": {
    "language": "sql",
    "name": "cell6"
   },
   "outputs": [],
   "source": "",
   "execution_count": null
  },
  {
   "cell_type": "code",
   "id": "3829a2d1-da15-4e5a-bfcb-e28dac244d10",
   "metadata": {
    "language": "sql",
    "name": "cell7"
   },
   "outputs": [],
   "source": "USE SCHEMA raw_data;\n\n-- drop if exists, then load\nCREATE OR REPLACE TABLE grades_raw (\n  student_id VARCHAR,\n  course_id  VARCHAR,\n  grade      NUMBER\n);\n\nCOPY INTO grades_raw\n  FROM @grades_stage/grades.csv\n  ON_ERROR = 'ABORT_STATEMENT';",
   "execution_count": null
  },
  {
   "cell_type": "code",
   "id": "d113ab74-b6bf-499f-b3e0-a7a4e2dedf77",
   "metadata": {
    "language": "sql",
    "name": "cell8"
   },
   "outputs": [],
   "source": "SHOW STAGES LIKE 'GRADES_STAGE';\n",
   "execution_count": null
  },
  {
   "cell_type": "code",
   "id": "70eeaff5-4c8e-45a5-b9fa-a50f7e8de993",
   "metadata": {
    "language": "sql",
    "name": "cell9"
   },
   "outputs": [],
   "source": "SELECT * FROM raw_data.grades_raw;\n",
   "execution_count": null
  },
  {
   "cell_type": "code",
   "id": "7f82ef3f-0394-4874-a493-58999f067e33",
   "metadata": {
    "language": "sql",
    "name": "cell10"
   },
   "outputs": [],
   "source": "USE SCHEMA analytics;\n\nCREATE OR REPLACE TABLE student_grades AS\nSELECT\n  student_id,\n  course_id,\n  grade,\n  CASE\n    WHEN grade >= 90 THEN 'A'\n    WHEN grade >= 80 THEN 'B'\n    WHEN grade >= 70 THEN 'C'\n    WHEN grade >= 60 THEN 'D'\n    ELSE 'F'\n  END AS letter_grade\nFROM raw_data.grades_raw;\n",
   "execution_count": null
  },
  {
   "cell_type": "code",
   "id": "6fd2325f-cff1-445a-bd32-fb17c707c48e",
   "metadata": {
    "language": "sql",
    "name": "cell11"
   },
   "outputs": [],
   "source": "SELECT * FROM analytics.student_grades LIMIT 10;\n",
   "execution_count": null
  },
  {
   "cell_type": "code",
   "id": "032b71f2-e00a-4855-b69d-6b0f6dfb067b",
   "metadata": {
    "language": "sql",
    "name": "cell12"
   },
   "outputs": [],
   "source": "USE SCHEMA analytics;\n\nCREATE OR REPLACE VIEW avg_grade_per_course AS\nSELECT\n  course_id,\n  ROUND(AVG(grade),2) AS avg_numeric,\n  COUNT(*)            AS num_students\nFROM student_grades\nGROUP BY course_id\nORDER BY course_id;\n",
   "execution_count": null
  },
  {
   "cell_type": "code",
   "id": "7d71f91d-a7ad-4b16-b76a-3bcc1a676857",
   "metadata": {
    "language": "sql",
    "name": "cell13"
   },
   "outputs": [],
   "source": "SELECT * FROM analytics.avg_grade_per_course;\n",
   "execution_count": null
  },
  {
   "cell_type": "code",
   "id": "d06b2b48-5dbb-4f93-8405-f74edacf938f",
   "metadata": {
    "language": "python",
    "name": "cell15"
   },
   "outputs": [],
   "source": "",
   "execution_count": null
  }
 ]
}